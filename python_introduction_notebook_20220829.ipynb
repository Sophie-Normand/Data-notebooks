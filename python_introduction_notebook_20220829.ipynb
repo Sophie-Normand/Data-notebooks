{
 "cells": [
  {
   "cell_type": "markdown",
   "id": "9c4a788a",
   "metadata": {},
   "source": [
    "## 0.Python Introduction\n",
    "\n",
    "- Authors : Kefia Ali\n",
    "- Contributors : Rhaiti Jamal"
   ]
  },
  {
   "cell_type": "markdown",
   "id": "fd4ea42d",
   "metadata": {},
   "source": [
    "# Introduction to Python\n",
    "\n",
    "- General presentation of the language\n",
    "    - Philosophy\n",
    "    - Evolutions & Successes\n",
    "- Practical exploration of the language through a concrete example\n",
    "    - Computing the GCD of two numbers: discovering the basics of the language through different implementations\n",
    "    - Introduction to NumPy & Pandas "
   ]
  },
  {
   "cell_type": "markdown",
   "id": "4fbf77d6",
   "metadata": {},
   "source": [
    "## basics"
   ]
  },
  {
   "cell_type": "markdown",
   "id": "a096298e",
   "metadata": {
    "tags": []
   },
   "source": [
    "- Very powerful and intuitive object oriented programming language\n",
    "- Interpreted: no compilation phase (like C or Java) =>  easy to set up\n",
    "- Simple syntax / high level (indentation) => easy to learn\n",
    "- Powerfull with an amazing ecosystem => The more people use a language, the more powerful it becomes\n",
    "- Flexible => easy to access to your wishes (not limited by syntax, data types or other constraints)\n",
    "\n",
    "- Strong and dynamic typing:\n",
    "    - Strong : Variable do have a type and the type matter when we perform operation\n",
    "    - Dynamic: The type is determined only during the runtime\n",
    "\n",
    "- Very powerful native data structures \n",
    "     - (lists, dictionaries, sets, iterators, etc.)\n",
    "     - Pay attention to mutable and immutable types"
   ]
  },
  {
   "cell_type": "markdown",
   "id": "0b8319cf",
   "metadata": {},
   "source": [
    "#### Print hello world java vs python"
   ]
  },
  {
   "cell_type": "markdown",
   "id": "751cdb82",
   "metadata": {},
   "source": [
    "`class HelloWorld {\n",
    "    public static void main(String[] args) {\n",
    "        System.out.println(\"Hello, World!\"); \n",
    "    }\n",
    "}`"
   ]
  },
  {
   "cell_type": "code",
   "execution_count": null,
   "id": "a989bd12",
   "metadata": {},
   "outputs": [],
   "source": [
    "print(\"Hello, World!\")"
   ]
  },
  {
   "cell_type": "markdown",
   "id": "16444c58",
   "metadata": {},
   "source": [
    "#### Native data structures "
   ]
  },
  {
   "cell_type": "markdown",
   "id": "fa2e3b4f",
   "metadata": {},
   "source": [
    "##### Text type => str"
   ]
  },
  {
   "cell_type": "code",
   "execution_count": null,
   "id": "47bb0998",
   "metadata": {},
   "outputs": [],
   "source": [
    "my_str = \"hello\"\n",
    "print(my_str)"
   ]
  },
  {
   "cell_type": "markdown",
   "id": "85c5e267",
   "metadata": {},
   "source": [
    "##### Numeric types  => int, float, etc.."
   ]
  },
  {
   "cell_type": "code",
   "execution_count": null,
   "id": "e5431697",
   "metadata": {},
   "outputs": [],
   "source": [
    "# Integer data type\n",
    "my_int = 5\n",
    "print(my_int)\n",
    "# Float data type\n",
    "my_float = 3.99\n",
    "print(my_float)"
   ]
  },
  {
   "cell_type": "code",
   "execution_count": null,
   "id": "24320503",
   "metadata": {},
   "outputs": [],
   "source": [
    "print(my_int + my_float)"
   ]
  },
  {
   "cell_type": "markdown",
   "id": "bcdb28a1",
   "metadata": {},
   "source": [
    "##### Sequence type  => list, tuple, etc.."
   ]
  },
  {
   "cell_type": "code",
   "execution_count": null,
   "id": "c78f83a2",
   "metadata": {},
   "outputs": [],
   "source": [
    "# for a list, we place elements inside square brackets [] , separated by commas\n",
    "# List data type\n",
    "my_list = [1, 2, 3, 4]\n",
    "print(my_list)"
   ]
  },
  {
   "cell_type": "code",
   "execution_count": null,
   "id": "fdd7d385",
   "metadata": {},
   "outputs": [],
   "source": [
    "# Print the length\n",
    "print(len(my_list))"
   ]
  },
  {
   "cell_type": "code",
   "execution_count": null,
   "id": "50a1f771",
   "metadata": {},
   "outputs": [],
   "source": [
    "# Print the first & the last element\n",
    "print(my_list[0])\n",
    "print(my_list[-1])"
   ]
  },
  {
   "cell_type": "code",
   "execution_count": null,
   "id": "fbcee40a",
   "metadata": {},
   "outputs": [],
   "source": [
    "# Modify the first element\n",
    "my_list[0] = 5\n",
    "print(my_list)"
   ]
  },
  {
   "cell_type": "code",
   "execution_count": null,
   "id": "a712e042",
   "metadata": {},
   "outputs": [],
   "source": [
    "my_list2 = my_list + [7, 8]\n",
    "print(my_list2)"
   ]
  },
  {
   "cell_type": "code",
   "execution_count": null,
   "id": "a34aad1c",
   "metadata": {},
   "outputs": [],
   "source": [
    "# Add an element\n",
    "my_list2.append(9)\n",
    "print(my_list2)\n",
    "# Remove an element\n",
    "my_list2.remove(9)\n",
    "print(my_list2)"
   ]
  },
  {
   "cell_type": "code",
   "execution_count": null,
   "id": "348da657",
   "metadata": {},
   "outputs": [],
   "source": [
    "# We can use list to create iterative instuctions\n",
    "for i in my_list:\n",
    "    print(i)"
   ]
  },
  {
   "cell_type": "markdown",
   "id": "c168be07",
   "metadata": {},
   "source": [
    "##### mapping type  => dict"
   ]
  },
  {
   "cell_type": "markdown",
   "id": "9f91ccef",
   "metadata": {},
   "source": [
    "- each element of the dict is a key and value pair \n",
    "- the value can be a certain type (string, number, user-defined types, ....), and can be repeated"
   ]
  },
  {
   "cell_type": "code",
   "execution_count": null,
   "id": "0d0c9fbd",
   "metadata": {},
   "outputs": [],
   "source": [
    "my_dict1 = {\n",
    "    \"name\": \"jamal\",\n",
    "    \"job\": \"data_engineer\",\n",
    "    \"company\": \"capgemini\"\n",
    "}\n",
    "print(my_dict1)\n",
    "print(my_dict1[\"name\"])"
   ]
  },
  {
   "cell_type": "code",
   "execution_count": null,
   "id": "4df8244e",
   "metadata": {},
   "outputs": [],
   "source": [
    "my_dict1[\"phone\"] = 12345\n",
    "my_dict1[\"job\"] = \"consultant\"\n",
    "print(my_dict1)"
   ]
  },
  {
   "cell_type": "code",
   "execution_count": null,
   "id": "fc8fd2f2",
   "metadata": {},
   "outputs": [],
   "source": [
    "my_dict2 = {\n",
    "    \"profil\": my_dict1,\n",
    "    \"id\": 1,\n",
    "    \"sectors\" : [\"energy\", \"industry\"]\n",
    "}\n",
    "print(my_dict2)"
   ]
  },
  {
   "cell_type": "code",
   "execution_count": null,
   "id": "9f7674c8",
   "metadata": {},
   "outputs": [],
   "source": [
    "# iterating over a dict \n",
    "for key, value in my_dict1.items():\n",
    "    print(key, value)"
   ]
  },
  {
   "cell_type": "markdown",
   "id": "b968c5dc",
   "metadata": {},
   "source": [
    "#### Duck typing "
   ]
  },
  {
   "cell_type": "markdown",
   "id": "84ba53aa",
   "metadata": {},
   "source": [
    "- we rely on the value interface rather than the type (*If it walks like a duck, and it quacks like a duck, then it must be a duck.*) \n",
    "\n",
    "- When we use duck typing, we focus on the presence of a given method or attribute\n",
    "- We can call len() on any python object in which is defines a .__len__() method:"
   ]
  },
  {
   "cell_type": "code",
   "execution_count": null,
   "id": "bb17c4d8",
   "metadata": {},
   "outputs": [],
   "source": [
    "class Magic:\n",
    "    def __len__(self):\n",
    "        return 1\n",
    "\n",
    "l = (1, 2, 3)\n",
    "print(len(l))\n",
    "\n",
    "m = Magic()\n",
    "print(len(m))"
   ]
  },
  {
   "cell_type": "markdown",
   "id": "e2ae88c6",
   "metadata": {},
   "source": [
    "## Some functionalities of standard libraries"
   ]
  },
  {
   "cell_type": "markdown",
   "id": "198b15c8",
   "metadata": {},
   "source": [
    "Standard librairies provides usefull functionalities:\n",
    "- text handling (`upper`, `lower`, `regexp`, `diff`, `unicode`)\n",
    "- numerical manipulation (`random`, `decimal`, `sqrt`, `trigo`)\n",
    "- file system, processing, threading, network, etc. (web server in 2 lines)\n",
    "- data persistence (`pickle`, `json`, `csv`, `sqlite`, `zlib`)\n",
    "- os interface (`os`, `io`, `logging`)\n",
    "- UI library (`Tkinter` as a standard)\n",
    "- Modules / Packages management (very important)"
   ]
  },
  {
   "cell_type": "markdown",
   "id": "a4ab4cbe",
   "metadata": {},
   "source": [
    "#### Functionalities examples"
   ]
  },
  {
   "cell_type": "code",
   "execution_count": null,
   "id": "3e9ab50d",
   "metadata": {},
   "outputs": [],
   "source": [
    "# Text handling\n",
    "my_text = \"Hello To Everyone !\"\n",
    "print(my_text.lower())\n",
    "print(my_text.upper())\n",
    "print(my_text.count(\"o\"))"
   ]
  },
  {
   "cell_type": "code",
   "execution_count": null,
   "id": "8decc737",
   "metadata": {},
   "outputs": [],
   "source": [
    "# Numerical manipulation\n",
    "import random\n",
    "random_int = random.randint(1,10)\n",
    "print(random_int)"
   ]
  },
  {
   "cell_type": "code",
   "execution_count": null,
   "id": "e1e0083a",
   "metadata": {},
   "outputs": [],
   "source": [
    "help(random)"
   ]
  },
  {
   "cell_type": "code",
   "execution_count": null,
   "id": "8328ce38",
   "metadata": {},
   "outputs": [],
   "source": [
    "import math\n",
    "print(math.sqrt(9))\n",
    "print(math.factorial(4))"
   ]
  },
  {
   "cell_type": "code",
   "execution_count": null,
   "id": "339c6efb",
   "metadata": {},
   "outputs": [],
   "source": [
    "# System\n",
    "import os\n",
    "current_path = os.getcwd()\n",
    "print(current_path)"
   ]
  },
  {
   "cell_type": "markdown",
   "id": "dbccb7e0",
   "metadata": {},
   "source": [
    "## Python uses "
   ]
  },
  {
   "cell_type": "markdown",
   "id": "64f34b28",
   "metadata": {},
   "source": [
    "- Widely used in many fields\n",
    "    - Calcul / Data / Stats : `Numpy`, `Pandas`, `Scikit`, `TF`, `Torch`\n",
    "    - Web : `Flask`, `Django`, `FastAPI`\n",
    "    - Admin / Automatisation / Cloud : `Ansible`, `awscli`, `azure-cli`"
   ]
  },
  {
   "cell_type": "markdown",
   "id": "47816e1b",
   "metadata": {},
   "source": [
    "## Evolution"
   ]
  },
  {
   "cell_type": "markdown",
   "id": "dd259837",
   "metadata": {},
   "source": [
    "- Perpetual evolution\n",
    "- Very active community supported by companies / universities (Google, Dropbox, etc.)\n",
    "- A big shift in 2010 (`py3k`): incompatible version to correct design errors\n",
    "- 10 years to migrate all community projects / frameworks\n",
    "- Async approach built into the language to overcome performance limitations (`GIL`)\n",
    "- Recent communication on work in progress by Guido van Rossum on Python performance (Microsoft)"
   ]
  },
  {
   "cell_type": "markdown",
   "id": "3653e513",
   "metadata": {},
   "source": [
    "- Good introduction : https://learnxinyminutes.com/docs/python/"
   ]
  },
  {
   "cell_type": "markdown",
   "id": "9361df94",
   "metadata": {},
   "source": [
    "## Practical exploration (gcd)"
   ]
  },
  {
   "cell_type": "markdown",
   "id": "4360856b",
   "metadata": {},
   "source": [
    "- gcd : greatest common divisor of two numbers (Plus Grand Commun Diviseur)\n",
    "- Explanation :\n",
    "    - gcd(a, b) with a = nb + m\n",
    "    - if m != 0\n",
    "        - gcd(a, b) divides m\n",
    "        - if d divides m and b then d divides a\n",
    "        => gcd(a, b) = gcd(b, m)\n",
    "    - if m == 0 => gcd(a, b) = b\n",
    "- Algorithm:\n",
    "    - while a >= b, a = a - b\n",
    "    - if a == 0 => res = b\n",
    "    - otherwise while b >= a, b = b - a\n",
    "      - if b == 0 => res = a\n",
    "      - otherwise while ..."
   ]
  },
  {
   "cell_type": "code",
   "execution_count": null,
   "id": "534e4b46",
   "metadata": {
    "tags": []
   },
   "outputs": [],
   "source": [
    "# Naive approach (using a language to express an algorithm)\n",
    "# Iterative instructions\n",
    "\n",
    "a, b = 20,6\n",
    "res = None\n",
    "\n",
    "while True:\n",
    "    a = a - b  # we assume that a >= b\n",
    "    if a == 0:\n",
    "        res = b\n",
    "        break\n",
    "    elif a < b:\n",
    "        a, b = b, a\n",
    "\n",
    "print(res)"
   ]
  },
  {
   "cell_type": "code",
   "execution_count": null,
   "id": "53b83051",
   "metadata": {},
   "outputs": [],
   "source": [
    "# add prints to vizualize \n",
    "\n",
    "a, b = 20, 6\n",
    "res = None\n",
    "\n",
    "i = 1\n",
    "while True:\n",
    "    print(f\"step {i}\")\n",
    "    a = a - b  # we assume that a >= b\n",
    "    print(f\"new a: {a}, b: {b}\")\n",
    "    if a == 0:\n",
    "        res = b\n",
    "        print(f\"GCD is equal to {b}\")\n",
    "        break\n",
    "    elif a < b:\n",
    "        print(\"switch values between a and b\")\n",
    "        print(f\"new a: {b}, new b: {a}\")\n",
    "        a, b = b, a\n",
    "    i += 1\n",
    "\n",
    "print(res)"
   ]
  },
  {
   "cell_type": "markdown",
   "id": "87c28dee",
   "metadata": {
    "tags": []
   },
   "source": [
    "### Take away\n",
    "- Easy and simple syntax (we assign as done on paper)\n",
    "- `if`, `else`, `elif`\n",
    "- `while`, `break`, `continue`\n",
    "- `print` is your best friend"
   ]
  },
  {
   "cell_type": "code",
   "execution_count": null,
   "id": "1176b4e4",
   "metadata": {
    "tags": []
   },
   "outputs": [],
   "source": [
    "# To capitalize on a logic, you need building blocks\n",
    "# iterative instruction\n",
    "def gcd1(a, b):\n",
    "    a, b = max(a, b), min(a, b)\n",
    "    while True:\n",
    "        a = a - b\n",
    "        if a == 0:\n",
    "            return b\n",
    "        elif a < b:\n",
    "            a, b = b, a"
   ]
  },
  {
   "cell_type": "code",
   "execution_count": null,
   "id": "a3a0dba2",
   "metadata": {
    "tags": []
   },
   "outputs": [],
   "source": [
    "gcd1(12, 9)"
   ]
  },
  {
   "cell_type": "markdown",
   "id": "9bd2b59c",
   "metadata": {
    "tags": []
   },
   "source": [
    "### Take away\n",
    "- Functions : building block important to capitalize / factorize\n",
    "- Classes are the level above (Capitalize on a concept)\n",
    "- Modules (.py file) and packages (hierarchy of modules) allow to group functions and classes to share / publish them (pypi)"
   ]
  },
  {
   "cell_type": "code",
   "execution_count": null,
   "id": "9d63e3dd",
   "metadata": {
    "tags": []
   },
   "outputs": [],
   "source": [
    "# Improvement : we don't like the `while True` in development (the error is fatal)\n",
    "# A function can call itself (recursivity)\n",
    "\n",
    "def _gcd2(s, b):\n",
    "    while b >= s:\n",
    "        b -= s\n",
    "    if b == 0:\n",
    "        return s\n",
    "    else:\n",
    "        return _gcd2(b, s)\n",
    "\n",
    "\n",
    "def gcd2(a, b):\n",
    "    return _gcd2(min(a, b), max(a, b))"
   ]
  },
  {
   "cell_type": "code",
   "execution_count": null,
   "id": "c0265f83",
   "metadata": {
    "tags": []
   },
   "outputs": [],
   "source": [
    "gcd2(20, 6)"
   ]
  },
  {
   "cell_type": "code",
   "execution_count": null,
   "id": "79becb5e",
   "metadata": {},
   "outputs": [],
   "source": [
    "# More readability / better use of language\n",
    "# Improvement : we don't like the `while True` in development (the error is fatal)\n",
    "\n",
    "def gcd3(a, b):\n",
    "    s, b = min(a, b), max(a, b)\n",
    "    while s != 0:\n",
    "        s, b = b % s, s\n",
    "    return b"
   ]
  },
  {
   "cell_type": "markdown",
   "id": "5e85107c",
   "metadata": {},
   "source": [
    "### Take away\n",
    "- Python is a very rich language (operations, native functions, multiple assignments)\n",
    "- Code readability is an important criterion of the quality  (we spend more time maintaining than creating)\n",
    "- A standard (pep8) and tools exist to check and format the code"
   ]
  },
  {
   "cell_type": "code",
   "execution_count": null,
   "id": "3185054b",
   "metadata": {},
   "outputs": [],
   "source": [
    "import math\n",
    "\n",
    "math.gcd(20, 6)"
   ]
  },
  {
   "cell_type": "markdown",
   "id": "1d89597f",
   "metadata": {},
   "source": [
    "### Take away\n",
    "- Before starting a development, check if there is already a library that does it\n",
    "- As a Software Engineer, Data Enginner or Data Scientist, our job is more to find the best combination of components to do the job than to create new things"
   ]
  },
  {
   "cell_type": "code",
   "execution_count": null,
   "id": "4e21fd0d",
   "metadata": {},
   "outputs": [],
   "source": [
    "import random\n",
    "\n",
    "\n",
    "N = 100000\n",
    "\n",
    "random.seed()\n",
    "A = [random.randint(1, 1000000000) for i in range(N)]\n",
    "B = [random.randint(1, 1000000000) for i in range(N)]"
   ]
  },
  {
   "cell_type": "code",
   "execution_count": null,
   "id": "10c14ca8",
   "metadata": {},
   "outputs": [],
   "source": [
    "import timeit\n",
    "\n",
    "\n",
    "def bench(f):\n",
    "    def ff():\n",
    "        r = [f(a, b) for a, b in zip(A, B)]\n",
    "        print(f\"gcd({A[0]}, {B[0]}) = {r[0]}\")\n",
    "        return r\n",
    "    t = timeit.timeit(ff, number=1)\n",
    "    print(f\"exec time : {t:.2f}s\")"
   ]
  },
  {
   "cell_type": "markdown",
   "id": "6bf3a7a2",
   "metadata": {},
   "source": [
    "### Take away\n",
    "- String format\n",
    "- List Comprehension (exists for dict)\n",
    "- Embedded functions\n",
    "- The standard library is very powerful (min, max, zip, timeit)"
   ]
  },
  {
   "cell_type": "code",
   "execution_count": null,
   "id": "33bc9497",
   "metadata": {},
   "outputs": [],
   "source": [
    "bench(gcd1)"
   ]
  },
  {
   "cell_type": "code",
   "execution_count": null,
   "id": "dc586c0f",
   "metadata": {},
   "outputs": [],
   "source": [
    "bench(gcd2)"
   ]
  },
  {
   "cell_type": "code",
   "execution_count": null,
   "id": "e59be5ad",
   "metadata": {},
   "outputs": [],
   "source": [
    "bench(gcd3)"
   ]
  },
  {
   "cell_type": "code",
   "execution_count": null,
   "id": "07e50263",
   "metadata": {},
   "outputs": [],
   "source": [
    "bench(math.gcd)"
   ]
  },
  {
   "cell_type": "markdown",
   "id": "8f98ff24",
   "metadata": {},
   "source": [
    "### Take away\n",
    "- The closer you get to the standard, the better you perform\n",
    "- To do data engineering, we must be vigilant because performance quickly becomes critical"
   ]
  },
  {
   "cell_type": "code",
   "execution_count": null,
   "id": "3385aafe",
   "metadata": {},
   "outputs": [],
   "source": [
    "import random\n",
    "\n",
    "\n",
    "N = 10000000\n",
    "\n",
    "random.seed()\n",
    "A = [random.randint(1, 1000000000) for i in range(N)]\n",
    "B = [random.randint(1, 1000000000) for i in range(N)]"
   ]
  },
  {
   "cell_type": "code",
   "execution_count": null,
   "id": "79e2b21b",
   "metadata": {},
   "outputs": [],
   "source": [
    "def log(a, b, r):\n",
    "    print(f\"gcd({a}, {b}) = {r}\")\n",
    "\n",
    "\n",
    "def naive():\n",
    "    R = [math.gcd(a, b) for a, b in zip(A, B)]\n",
    "    for a, b, r in zip(A, B, R):\n",
    "        log(a, b, r)\n",
    "        break\n",
    "\n",
    "\n",
    "def lazy():\n",
    "    R = (math.gcd(a, b) for a, b in zip(A, B))\n",
    "    for a, b, r in zip(A, B, R):\n",
    "        log(a, b, r)\n",
    "        break"
   ]
  },
  {
   "cell_type": "code",
   "execution_count": null,
   "id": "396d332e",
   "metadata": {},
   "outputs": [],
   "source": [
    "print(f\"naive exec time : {timeit.timeit(naive, number=1):.2f}s\")\n",
    "print()\n",
    "print(f\"lazy exec time : {timeit.timeit(lazy, number=1):.2f}s\")"
   ]
  },
  {
   "cell_type": "markdown",
   "id": "d0282aea",
   "metadata": {},
   "source": [
    "### Take away\n",
    "- There are \"lazy\" data structures that avoid intermediary storage\n",
    "- This consists in creating iterators and links on iterators that iterate on existing data\n",
    "- Very common pattern in Python (iterate on database records, aggregations on CSV files > memory size)\n",
    "- Compatible with builtins and standard library (`sorted`, `zip`, `enumerate`, etc.)"
   ]
  },
  {
   "cell_type": "markdown",
   "id": "8f966ffd",
   "metadata": {},
   "source": [
    "## Other data structures provided by external librairies "
   ]
  },
  {
   "cell_type": "markdown",
   "id": "98ed2806",
   "metadata": {},
   "source": [
    "## Numpy"
   ]
  },
  {
   "cell_type": "markdown",
   "id": "ef87ea1d",
   "metadata": {},
   "source": [
    "### Take away\n",
    "- Python's basic data structures are not optimized for numeric compute\n",
    "- The `Numpy` package is the basis for all numerical computation libraries in Python\n",
    "    - Block data structure uniformly typed \n",
    "    - Flexibility to shape the data to your needs\n",
    "    - Rich library of operations to manipulate these arrays\n",
    "    - Utilities to build arrays (timeseries, random, range, etc.)\n",
    "    - Utilities to load input data from files and to serialize output data\n",
    "- Nice introduction : http://datacamp-community-prod.s3.amazonaws.com/da466534-51fe-4c6d-b0cb-154f4782eb54"
   ]
  },
  {
   "cell_type": "code",
   "execution_count": null,
   "id": "7d7dd3c4",
   "metadata": {},
   "outputs": [],
   "source": [
    "! pip install numpy\n",
    "import numpy as np"
   ]
  },
  {
   "cell_type": "code",
   "execution_count": null,
   "id": "45566a4a",
   "metadata": {},
   "outputs": [],
   "source": [
    "help(np)"
   ]
  },
  {
   "cell_type": "code",
   "execution_count": null,
   "id": "f6e499fe",
   "metadata": {},
   "outputs": [],
   "source": [
    "l1_to_array = [[1,2], [3,4], [5,6]]\n",
    "a = np.array(l1_to_array)\n",
    "print(a)\n",
    "print(a.dtype)\n",
    "print(a.shape)"
   ]
  },
  {
   "cell_type": "code",
   "execution_count": null,
   "id": "8a25dc4e",
   "metadata": {},
   "outputs": [],
   "source": [
    "a.reshape((2, 3))"
   ]
  },
  {
   "cell_type": "code",
   "execution_count": null,
   "id": "426e9790",
   "metadata": {},
   "outputs": [],
   "source": [
    "l2_to_array = [[7,8], [9,10], [11,12]]\n",
    "b = np.array(l2_to_array)\n",
    "print(b)"
   ]
  },
  {
   "cell_type": "code",
   "execution_count": null,
   "id": "429b06f6",
   "metadata": {},
   "outputs": [],
   "source": [
    "print(a)"
   ]
  },
  {
   "cell_type": "code",
   "execution_count": null,
   "id": "97d0bda1",
   "metadata": {},
   "outputs": [],
   "source": [
    "print(a+b)"
   ]
  },
  {
   "cell_type": "code",
   "execution_count": null,
   "id": "8c4a59e0",
   "metadata": {},
   "outputs": [],
   "source": [
    "print(a*b)"
   ]
  },
  {
   "cell_type": "code",
   "execution_count": null,
   "id": "f4399952",
   "metadata": {},
   "outputs": [],
   "source": [
    "print(a/b)"
   ]
  },
  {
   "cell_type": "code",
   "execution_count": null,
   "id": "29692a6d",
   "metadata": {},
   "outputs": [],
   "source": [
    "a.dot(b.reshape(2, 3))"
   ]
  },
  {
   "cell_type": "code",
   "execution_count": null,
   "id": "800c1065",
   "metadata": {},
   "outputs": [],
   "source": [
    "#a[3] = 1  # Pas de resizing (Attention)"
   ]
  },
  {
   "cell_type": "code",
   "execution_count": null,
   "id": "922650f4",
   "metadata": {},
   "outputs": [],
   "source": [
    "a[0,0] = 0\n",
    "print(a)"
   ]
  },
  {
   "cell_type": "code",
   "execution_count": null,
   "id": "d11f52e9",
   "metadata": {},
   "outputs": [],
   "source": [
    "a[0] = 1.4  # Cast (Attention)\n",
    "print(a)"
   ]
  },
  {
   "cell_type": "markdown",
   "id": "07001fd8",
   "metadata": {},
   "source": [
    "### Take away\n",
    "- Numpy is a real Swiss army knife for computational processing while keeping the flexibility of python\n",
    "- You have to be careful to keep the internal structures of Numpy (go through the Numpy API)"
   ]
  },
  {
   "cell_type": "code",
   "execution_count": null,
   "id": "11c9e005",
   "metadata": {},
   "outputs": [],
   "source": [
    "#! pip install numpy\n",
    "#! pip install matplotlib\n",
    "import numpy as np\n",
    "import matplotlib.pyplot as plt\n",
    "\n",
    "\n",
    "x1 = np.arange(0.0, 2.0, 0.1)\n",
    "y1 = np.sin(2 * np.pi * x1)\n",
    "\n",
    "x2 = np.arange(0.0, 2.0, 0.01)\n",
    "y2 = np.sin(2 * np.pi * x2)\n",
    "\n",
    "fig, ax = plt.subplots()\n",
    "\n",
    "ax.plot(x1, y1, color=\"red\")\n",
    "ax.plot(x2, y2, color=\"blue\")\n",
    "ax.grid()\n",
    "\n",
    "plt.show()"
   ]
  },
  {
   "cell_type": "markdown",
   "id": "1e3c1eb1",
   "metadata": {},
   "source": [
    "### Linear regression"
   ]
  },
  {
   "cell_type": "code",
   "execution_count": null,
   "id": "931454ea",
   "metadata": {},
   "outputs": [],
   "source": [
    "#! pip install sklearn\n",
    "from sklearn.linear_model import LinearRegression"
   ]
  },
  {
   "cell_type": "code",
   "execution_count": null,
   "id": "a3889950",
   "metadata": {},
   "outputs": [],
   "source": [
    "# Define the raw data\n",
    "x = np.array([0, 5, 10, 15, 20, 25, 30, 35, 40, 45, 50]).reshape((-1, 1))\n",
    "y = np.array([5, 10, 17, 18, 20, 14, 18, 32, 22, 38, 47])\n",
    "plt.scatter(x,y)"
   ]
  },
  {
   "cell_type": "code",
   "execution_count": null,
   "id": "4047d61f",
   "metadata": {},
   "outputs": [],
   "source": [
    "model = LinearRegression()"
   ]
  },
  {
   "cell_type": "code",
   "execution_count": null,
   "id": "26d4a4a9",
   "metadata": {},
   "outputs": [],
   "source": [
    "model = model.fit(x, y)"
   ]
  },
  {
   "cell_type": "code",
   "execution_count": null,
   "id": "daa38f89",
   "metadata": {},
   "outputs": [],
   "source": [
    "y_prediction = model.predict(x)"
   ]
  },
  {
   "cell_type": "code",
   "execution_count": null,
   "id": "7866940d",
   "metadata": {},
   "outputs": [],
   "source": [
    "plt.scatter(x,y)\n",
    "plt.plot(x,y_prediction, c=\"orange\", label=\"prediction\")"
   ]
  },
  {
   "cell_type": "markdown",
   "id": "b2c2f908",
   "metadata": {},
   "source": [
    "### Take away\n",
    "- To visualize the numbers, very powerful libraries to visualize the `numpy` array"
   ]
  },
  {
   "cell_type": "markdown",
   "id": "e3260fec",
   "metadata": {},
   "source": [
    "### Pandas\n",
    "Pandas is open source tool for data manipulation, analysis and cleaning. It is well suited for different kinds of data and to manage multiple columns with different types, such as:\n",
    "\n",
    "- Tabular data with heterogeneously-typed columns\n",
    "- Ordered and unordered time series data\n",
    "- Arbitrary matrix data with row & column labels\n",
    "- Unlabelled data\n",
    "- Any other form of observational or statistical data sets\n",
    "\n",
    "Nice introduction : https://pandas.pydata.org/Pandas_Cheat_Sheet.pdf"
   ]
  },
  {
   "cell_type": "markdown",
   "id": "07c77af2",
   "metadata": {},
   "source": [
    "### basic functionalities\n",
    "\n",
    "Pandas is built on the top of NumPy and allows to :\n",
    "- Structure incoming raw data from databases, files, etc..\n",
    "- Handle multiple operations of the data sets such as like slicing, filtering, grouping, etc..\n",
    "- Group data for aggregations and transformations\n",
    "- Perform data cleaning and handle missing values\n",
    "- Preprocess data before modelization \n",
    "- Structure models output predictions\n",
    "- Export output data to database, files, etc.."
   ]
  },
  {
   "cell_type": "code",
   "execution_count": null,
   "id": "2a4fec52",
   "metadata": {},
   "outputs": [],
   "source": [
    "#! pip install pandas\n",
    "import pandas as pd\n"
   ]
  },
  {
   "cell_type": "markdown",
   "id": "4fc4c18b",
   "metadata": {},
   "source": [
    "#### Python Pandas Operations\n",
    "\n",
    "Using Python pandas, you can perform a lot of operations with series, data frames, missing data, group by etc. Some of the common operations for data manipulation are demonstrated below"
   ]
  },
  {
   "cell_type": "markdown",
   "id": "267c0695",
   "metadata": {},
   "source": [
    "##### Create a dataframe with input file"
   ]
  },
  {
   "cell_type": "code",
   "execution_count": null,
   "id": "84ba644c",
   "metadata": {},
   "outputs": [],
   "source": [
    "## Import data if we have csv, excel files in the same folder\n",
    "\n",
    "# excel file\n",
    "#df = pd.read_excel(\"my_excel_file.xlsx\")\n",
    "# csv file\n",
    "#df = pd.read_csv(\"my_csv_file.csv\")"
   ]
  },
  {
   "cell_type": "code",
   "execution_count": null,
   "id": "f1e6a046",
   "metadata": {},
   "outputs": [],
   "source": [
    "# use csv file stored in internet\n",
    "# read all medals of Winter Olympics between 1924 and 2006\n",
    "df = pd.read_csv('http://winterolympicsmedals.com/medals.csv')"
   ]
  },
  {
   "cell_type": "code",
   "execution_count": null,
   "id": "b6d94dcc",
   "metadata": {},
   "outputs": [],
   "source": [
    "df"
   ]
  },
  {
   "cell_type": "markdown",
   "id": "cd1214ea",
   "metadata": {},
   "source": [
    "##### Create a dataframe from a dictionnary"
   ]
  },
  {
   "cell_type": "code",
   "execution_count": null,
   "id": "849dc3a7",
   "metadata": {},
   "outputs": [],
   "source": [
    "dict_to_df = {\n",
    "    \"City\": [\"Chamonix\", \"Turin\", \"Paris\"],\n",
    "    \"Sport\": [\"Skating\", \"Bobsleight\", \"Ice Hokey\"],\n",
    "    \"Medal\": [\"Silver\", \"Gold\", \"Bronze\"]\n",
    "}"
   ]
  },
  {
   "cell_type": "code",
   "execution_count": null,
   "id": "450b2767",
   "metadata": {},
   "outputs": [],
   "source": [
    "df_new = pd.DataFrame(dict_to_df)"
   ]
  },
  {
   "cell_type": "code",
   "execution_count": null,
   "id": "0b9ebb7d",
   "metadata": {},
   "outputs": [],
   "source": [
    "df_new"
   ]
  },
  {
   "cell_type": "markdown",
   "id": "a5166426",
   "metadata": {},
   "source": [
    "#### Viewing data"
   ]
  },
  {
   "cell_type": "code",
   "execution_count": null,
   "id": "7174d76f",
   "metadata": {},
   "outputs": [],
   "source": [
    "num = 10"
   ]
  },
  {
   "cell_type": "code",
   "execution_count": null,
   "id": "a757d269",
   "metadata": {},
   "outputs": [],
   "source": [
    "df.head(num)"
   ]
  },
  {
   "cell_type": "code",
   "execution_count": null,
   "id": "4e898114",
   "metadata": {},
   "outputs": [],
   "source": [
    "df.tail(num)"
   ]
  },
  {
   "cell_type": "markdown",
   "id": "dec51a8d",
   "metadata": {},
   "source": [
    "#### Add new columns"
   ]
  },
  {
   "cell_type": "code",
   "execution_count": null,
   "id": "4964b9f2",
   "metadata": {},
   "outputs": [],
   "source": [
    "import random"
   ]
  },
  {
   "cell_type": "code",
   "execution_count": null,
   "id": "f46ed1c3",
   "metadata": {},
   "outputs": [],
   "source": [
    "df[\"random_num\"] = [random.randint(1,10) for i in range(len(df))]"
   ]
  },
  {
   "cell_type": "code",
   "execution_count": null,
   "id": "06c143fe",
   "metadata": {},
   "outputs": [],
   "source": [
    "df"
   ]
  },
  {
   "cell_type": "markdown",
   "id": "4331eafa",
   "metadata": {},
   "source": [
    "#### Get stats"
   ]
  },
  {
   "cell_type": "code",
   "execution_count": null,
   "id": "eb02316f",
   "metadata": {},
   "outputs": [],
   "source": [
    "df.describe()"
   ]
  },
  {
   "cell_type": "markdown",
   "id": "16b0c068",
   "metadata": {},
   "source": [
    "#### Sort df by specific column(s)"
   ]
  },
  {
   "cell_type": "code",
   "execution_count": null,
   "id": "228dd376",
   "metadata": {},
   "outputs": [],
   "source": [
    "df.sort_values(by=\"random_num\")"
   ]
  },
  {
   "cell_type": "code",
   "execution_count": null,
   "id": "c12203e8",
   "metadata": {},
   "outputs": [],
   "source": [
    "df.sort_values(by=\"random_num\", ascending=False)"
   ]
  },
  {
   "cell_type": "code",
   "execution_count": null,
   "id": "49224043",
   "metadata": {},
   "outputs": [],
   "source": [
    "df.sort_values(by=[\"Sport\", \"NOC\"])"
   ]
  },
  {
   "cell_type": "markdown",
   "id": "28e334b3",
   "metadata": {},
   "source": [
    "#### filter data"
   ]
  },
  {
   "cell_type": "code",
   "execution_count": null,
   "id": "d0d2228f",
   "metadata": {},
   "outputs": [],
   "source": [
    "df.loc[:, [\"Year\", \"City\"]]"
   ]
  },
  {
   "cell_type": "code",
   "execution_count": null,
   "id": "418eefb4",
   "metadata": {},
   "outputs": [],
   "source": [
    "df.loc[0:20, [\"Year\", \"City\"]]"
   ]
  },
  {
   "cell_type": "code",
   "execution_count": null,
   "id": "54b26f48",
   "metadata": {},
   "outputs": [],
   "source": [
    "df[df[\"Year\"] > 2000]"
   ]
  },
  {
   "cell_type": "code",
   "execution_count": null,
   "id": "6d321a8f",
   "metadata": {},
   "outputs": [],
   "source": [
    "df[(df[\"Year\"] > 2000) & (df[\"Medal\"] == \"Gold\")]"
   ]
  },
  {
   "cell_type": "code",
   "execution_count": null,
   "id": "1b4c1814",
   "metadata": {},
   "outputs": [],
   "source": [
    "df[df[\"Medal\"].isin([\"Gold\", \"Silver\"])]"
   ]
  },
  {
   "cell_type": "code",
   "execution_count": null,
   "id": "b356e07e",
   "metadata": {},
   "outputs": [],
   "source": [
    "df[~df[\"Medal\"].isin([\"Bronze\"])]"
   ]
  },
  {
   "cell_type": "markdown",
   "id": "7ede5264",
   "metadata": {},
   "source": [
    "#### Aggregate data"
   ]
  },
  {
   "cell_type": "code",
   "execution_count": null,
   "id": "a05017a1",
   "metadata": {},
   "outputs": [],
   "source": [
    "df.groupby([\"Year\"])[\"Medal\"].count().to_frame()"
   ]
  },
  {
   "cell_type": "code",
   "execution_count": null,
   "id": "fea12582",
   "metadata": {},
   "outputs": [],
   "source": [
    "df.groupby([\"Year\", \"Sport\"])[\"Medal\"].count().to_frame()"
   ]
  },
  {
   "cell_type": "code",
   "execution_count": null,
   "id": "877a6255",
   "metadata": {},
   "outputs": [],
   "source": [
    "# aggregations\n",
    "df.groupby([\"Year\"]).agg({\"Event\": \"nunique\", \"NOC\": \"nunique\", \"Medal\": \"count\"})"
   ]
  },
  {
   "cell_type": "markdown",
   "id": "66774263",
   "metadata": {},
   "source": [
    "#### Missing data"
   ]
  },
  {
   "cell_type": "code",
   "execution_count": null,
   "id": "6fed2341",
   "metadata": {},
   "outputs": [],
   "source": [
    "df_2 = df.copy()\n",
    "df_2[\"fill_missing_data\"] = np.nan"
   ]
  },
  {
   "cell_type": "code",
   "execution_count": null,
   "id": "bed9ac9d",
   "metadata": {},
   "outputs": [],
   "source": [
    "df_2"
   ]
  },
  {
   "cell_type": "code",
   "execution_count": null,
   "id": "4685c2bd",
   "metadata": {},
   "outputs": [],
   "source": [
    "df_2.fillna(value=0)"
   ]
  },
  {
   "cell_type": "markdown",
   "id": "eabe8944",
   "metadata": {},
   "source": [
    "#### Export data"
   ]
  },
  {
   "cell_type": "code",
   "execution_count": null,
   "id": "dae154f3",
   "metadata": {},
   "outputs": [],
   "source": [
    "df_2.to_excel(\"new_export.xlsx\")"
   ]
  },
  {
   "cell_type": "markdown",
   "id": "56f4df7f",
   "metadata": {},
   "source": [
    "#### more complexe commands"
   ]
  },
  {
   "cell_type": "code",
   "execution_count": null,
   "id": "5cb78cd0",
   "metadata": {},
   "outputs": [],
   "source": [
    "# the number of all medals winned by coutry for each categories\n",
    "df.pivot_table(index='NOC', columns='Medal', values='Event', aggfunc='count')"
   ]
  },
  {
   "cell_type": "code",
   "execution_count": null,
   "id": "6234ff58",
   "metadata": {},
   "outputs": [],
   "source": [
    "(df\n",
    "     .groupby([\"NOC\", \"Medal\"])\n",
    "     .agg({\"Event\": \"count\"})\n",
    "     .reset_index(level=[1])\n",
    "     .pivot(columns=\"Medal\")\n",
    "     .fillna(0)\n",
    ")"
   ]
  },
  {
   "cell_type": "code",
   "execution_count": null,
   "id": "c721399f",
   "metadata": {},
   "outputs": [],
   "source": [
    "# 1st version\n",
    "\n",
    "df_filter = df.loc[df.NOC.isin(['AUT', 'FRA', 'CHN', 'USA', 'FIN']), :].reset_index(drop=True)\n",
    "df_pivot = df_filter.pivot_table(index='Year', columns='NOC', values='Medal', aggfunc='count')\n",
    "df_pivot = df_pivot.fillna(0)\n",
    "df_pivot.plot()"
   ]
  },
  {
   "cell_type": "markdown",
   "id": "3067ae7e",
   "metadata": {},
   "source": [
    "#### To improve code readability, we use Pandas Method Chaning.\n",
    "Method chaining is a programmatic style of invoking multiple method calls sequentially with each call performing an action on the same object and returning it\n",
    "- To deep dive : https://towardsdatascience.com/the-unreasonable-effectiveness-of-method-chaining-in-pandas-15c2109e3c69"
   ]
  },
  {
   "cell_type": "code",
   "execution_count": null,
   "id": "9134097f",
   "metadata": {},
   "outputs": [],
   "source": [
    "# 2nd version\n",
    "\n",
    "(\n",
    "    df\n",
    "    .loc[df.NOC.isin(['AUT', 'FRA', 'CHN', 'USA', 'FIN'])]\n",
    "    .pivot_table(index='Year', columns='NOC', values='Medal', aggfunc='count')\n",
    "    .fillna(0)\n",
    "    .plot()\n",
    ")"
   ]
  },
  {
   "cell_type": "markdown",
   "id": "c8e1a341",
   "metadata": {},
   "source": [
    "### Numpy or Pandas ?\n",
    "\n",
    "Now majorly the difference between Numpy and Pandas lies in their data structure, memory consumption, and usage.*\n",
    "\n",
    "- Numpy majorly works with numerical data whereas Pandas works with tabular data.\n",
    "- The data structure in Pandas are Series, Dataframes and Panel whose objects can go upto three. Whereas Numpy has Arrays whose objects can go upto n dimensions.\n",
    "- Numpy consumes less memory as compared to Pandas.\n",
    "- Pandas perform better with the data having 500K rows or more whereas Numpy performances better for 50K rows or less\n",
    "- Pandas is more widely used in industry than Numpy.\n",
    "- Good read : http://gouthamanbalaraman.com/blog/numpy-vs-pandas-comparison.html"
   ]
  }
 ],
 "metadata": {
  "interpreter": {
   "hash": "3207b46d55f06357cbc786d58801af30adee4e85f2fbb9c5029957ffa03d32a9"
  },
  "kernelspec": {
   "display_name": "Python 3 (ipykernel)",
   "language": "python",
   "name": "python3"
  },
  "language_info": {
   "codemirror_mode": {
    "name": "ipython",
    "version": 3
   },
   "file_extension": ".py",
   "mimetype": "text/x-python",
   "name": "python",
   "nbconvert_exporter": "python",
   "pygments_lexer": "ipython3",
   "version": "3.9.13"
  }
 },
 "nbformat": 4,
 "nbformat_minor": 5
}
